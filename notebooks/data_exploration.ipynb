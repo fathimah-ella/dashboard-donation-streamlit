{
  "cells": [
    {
      "cell_type": "markdown",
      "metadata": {
        "id": "eVWsgIii3VBc"
      },
      "source": [
        "# Load Dataset"
      ]
    },
    {
      "cell_type": "code",
      "execution_count": 28,
      "metadata": {
        "colab": {
          "base_uri": "https://localhost:8080/",
          "height": 109
        },
        "id": "uPmCVDK32zQ2",
        "outputId": "e8124ac0-e1b2-4262-f5c9-f70115913c29"
      },
      "outputs": [],
      "source": [
        "import pandas as pd\n",
        "\n",
        "# Baca file Excel\n",
        "df_qris = pd.read_excel(\"D:\\\\KP\\\\sobatberbagi.com_dashboard\\\\data\\\\transaksi_qris.xlsx\", skiprows=1)\n",
        "df_manual = pd.read_excel(\"D:\\\\KP\\\\sobatberbagi.com_dashboard\\\\data\\\\transaksi_manual.xlsx\", skiprows=1)"
      ]
    },
    {
      "cell_type": "markdown",
      "metadata": {
        "id": "UTngMN4H47jI"
      },
      "source": [
        "# Data Understanding"
      ]
    },
    {
      "cell_type": "code",
      "execution_count": 2,
      "metadata": {},
      "outputs": [
        {
          "name": "stdout",
          "output_type": "stream",
          "text": [
            "<class 'pandas.core.frame.DataFrame'>\n",
            "RangeIndex: 590 entries, 0 to 589\n",
            "Data columns (total 6 columns):\n",
            " #   Column         Non-Null Count  Dtype \n",
            "---  ------         --------------  ----- \n",
            " 0   No             590 non-null    int64 \n",
            " 1   Tanggal        590 non-null    object\n",
            " 2   Nama Campaign  590 non-null    object\n",
            " 3   Nama Donatur   584 non-null    object\n",
            " 4   Total Donasi   590 non-null    object\n",
            " 5   Status         590 non-null    object\n",
            "dtypes: int64(1), object(5)\n",
            "memory usage: 27.8+ KB\n"
          ]
        }
      ],
      "source": [
        "# Mnampilkan Informasi Data QRIS    \n",
        "df_qris.info()"
      ]
    },
    {
      "cell_type": "code",
      "execution_count": 3,
      "metadata": {},
      "outputs": [
        {
          "name": "stdout",
          "output_type": "stream",
          "text": [
            "<class 'pandas.core.frame.DataFrame'>\n",
            "RangeIndex: 246 entries, 0 to 245\n",
            "Data columns (total 6 columns):\n",
            " #   Column         Non-Null Count  Dtype \n",
            "---  ------         --------------  ----- \n",
            " 0   No             246 non-null    int64 \n",
            " 1   Tanggal        246 non-null    object\n",
            " 2   Nama Campaign  246 non-null    object\n",
            " 3   Nama Donatur   246 non-null    object\n",
            " 4   Total Donasi   246 non-null    object\n",
            " 5   Status         246 non-null    object\n",
            "dtypes: int64(1), object(5)\n",
            "memory usage: 11.7+ KB\n"
          ]
        }
      ],
      "source": [
        "# Mnampilkan Informasi Data Manual   \n",
        "df_manual.info()"
      ]
    },
    {
      "cell_type": "code",
      "execution_count": 4,
      "metadata": {
        "id": "RIx5UjgE5p6N"
      },
      "outputs": [
        {
          "data": {
            "text/html": [
              "<div>\n",
              "<style scoped>\n",
              "    .dataframe tbody tr th:only-of-type {\n",
              "        vertical-align: middle;\n",
              "    }\n",
              "\n",
              "    .dataframe tbody tr th {\n",
              "        vertical-align: top;\n",
              "    }\n",
              "\n",
              "    .dataframe thead th {\n",
              "        text-align: right;\n",
              "    }\n",
              "</style>\n",
              "<table border=\"1\" class=\"dataframe\">\n",
              "  <thead>\n",
              "    <tr style=\"text-align: right;\">\n",
              "      <th></th>\n",
              "      <th>No</th>\n",
              "      <th>Tanggal</th>\n",
              "      <th>Nama Campaign</th>\n",
              "      <th>Nama Donatur</th>\n",
              "      <th>Total Donasi</th>\n",
              "      <th>Status</th>\n",
              "    </tr>\n",
              "  </thead>\n",
              "  <tbody>\n",
              "    <tr>\n",
              "      <th>0</th>\n",
              "      <td>1</td>\n",
              "      <td>26 Mei 2025 18:29</td>\n",
              "      <td>Pembangunan Masjid dan Muhammadiyah Islamic Ce...</td>\n",
              "      <td>Makhrus, S.EI., M.SI.</td>\n",
              "      <td>Rp 100.000</td>\n",
              "      <td>Belum Di Konfirmasi</td>\n",
              "    </tr>\n",
              "    <tr>\n",
              "      <th>1</th>\n",
              "      <td>2</td>\n",
              "      <td>26 Mei 2025 18:28</td>\n",
              "      <td>Pembangunan Masjid dan Muhammadiyah Islamic Ce...</td>\n",
              "      <td>Makhrus, S.EI., M.SI.</td>\n",
              "      <td>Rp 1.000</td>\n",
              "      <td>Belum Di Konfirmasi</td>\n",
              "    </tr>\n",
              "    <tr>\n",
              "      <th>2</th>\n",
              "      <td>3</td>\n",
              "      <td>26 Mei 2025 18:28</td>\n",
              "      <td>Pembangunan Masjid dan Muhammadiyah Islamic Ce...</td>\n",
              "      <td>Makhrus, S.EI., M.SI.</td>\n",
              "      <td>Rp 1.000</td>\n",
              "      <td>Belum Di Konfirmasi</td>\n",
              "    </tr>\n",
              "    <tr>\n",
              "      <th>3</th>\n",
              "      <td>4</td>\n",
              "      <td>23 Mei 2025 08:01</td>\n",
              "      <td>Pembangunan Masjid dan Muhammadiyah Islamic Ce...</td>\n",
              "      <td>Dhodi Junaedi</td>\n",
              "      <td>Rp 50.000</td>\n",
              "      <td>Berhasil</td>\n",
              "    </tr>\n",
              "    <tr>\n",
              "      <th>4</th>\n",
              "      <td>5</td>\n",
              "      <td>16 Mei 2025 23:27</td>\n",
              "      <td>Sedekah 1 Juta Al Quran untuk Negeri</td>\n",
              "      <td>Anggitya Yhusuf Fikrandi</td>\n",
              "      <td>Rp 100</td>\n",
              "      <td>Berhasil</td>\n",
              "    </tr>\n",
              "  </tbody>\n",
              "</table>\n",
              "</div>"
            ],
            "text/plain": [
              "   No            Tanggal                                      Nama Campaign  \\\n",
              "0   1  26 Mei 2025 18:29  Pembangunan Masjid dan Muhammadiyah Islamic Ce...   \n",
              "1   2  26 Mei 2025 18:28  Pembangunan Masjid dan Muhammadiyah Islamic Ce...   \n",
              "2   3  26 Mei 2025 18:28  Pembangunan Masjid dan Muhammadiyah Islamic Ce...   \n",
              "3   4  23 Mei 2025 08:01  Pembangunan Masjid dan Muhammadiyah Islamic Ce...   \n",
              "4   5  16 Mei 2025 23:27               Sedekah 1 Juta Al Quran untuk Negeri   \n",
              "\n",
              "               Nama Donatur Total Donasi               Status  \n",
              "0     Makhrus, S.EI., M.SI.   Rp 100.000  Belum Di Konfirmasi  \n",
              "1     Makhrus, S.EI., M.SI.     Rp 1.000  Belum Di Konfirmasi  \n",
              "2     Makhrus, S.EI., M.SI.     Rp 1.000  Belum Di Konfirmasi  \n",
              "3             Dhodi Junaedi    Rp 50.000             Berhasil  \n",
              "4  Anggitya Yhusuf Fikrandi       Rp 100             Berhasil  "
            ]
          },
          "execution_count": 4,
          "metadata": {},
          "output_type": "execute_result"
        }
      ],
      "source": [
        "# Menampilkan Head Data QRIS\n",
        "df_qris.head()"
      ]
    },
    {
      "cell_type": "code",
      "execution_count": 5,
      "metadata": {},
      "outputs": [
        {
          "data": {
            "text/html": [
              "<div>\n",
              "<style scoped>\n",
              "    .dataframe tbody tr th:only-of-type {\n",
              "        vertical-align: middle;\n",
              "    }\n",
              "\n",
              "    .dataframe tbody tr th {\n",
              "        vertical-align: top;\n",
              "    }\n",
              "\n",
              "    .dataframe thead th {\n",
              "        text-align: right;\n",
              "    }\n",
              "</style>\n",
              "<table border=\"1\" class=\"dataframe\">\n",
              "  <thead>\n",
              "    <tr style=\"text-align: right;\">\n",
              "      <th></th>\n",
              "      <th>No</th>\n",
              "      <th>Tanggal</th>\n",
              "      <th>Nama Campaign</th>\n",
              "      <th>Nama Donatur</th>\n",
              "      <th>Total Donasi</th>\n",
              "      <th>Status</th>\n",
              "    </tr>\n",
              "  </thead>\n",
              "  <tbody>\n",
              "    <tr>\n",
              "      <th>0</th>\n",
              "      <td>1</td>\n",
              "      <td>26 Mei 2025 18:27</td>\n",
              "      <td>Pembangunan Masjid dan Muhammadiyah Islamic Ce...</td>\n",
              "      <td>Makhrus, S.EI., M.SI.</td>\n",
              "      <td>Rp 150.332</td>\n",
              "      <td>Belum Di Konfirmasi</td>\n",
              "    </tr>\n",
              "    <tr>\n",
              "      <th>1</th>\n",
              "      <td>2</td>\n",
              "      <td>13 Mei 2025 11:45</td>\n",
              "      <td>Bangun Kembali Negeri Palestina Membangun Hara...</td>\n",
              "      <td>Priyo Aldo</td>\n",
              "      <td>Rp 1.329</td>\n",
              "      <td>Belum Di Konfirmasi</td>\n",
              "    </tr>\n",
              "    <tr>\n",
              "      <th>2</th>\n",
              "      <td>3</td>\n",
              "      <td>5 Mei 2025 17:16</td>\n",
              "      <td>Sentuh Mimpi: Edupreneur untuk Pendidikan Berk...</td>\n",
              "      <td>Hanif Nur Setiawan</td>\n",
              "      <td>Rp 50.000</td>\n",
              "      <td>Berhasil</td>\n",
              "    </tr>\n",
              "    <tr>\n",
              "      <th>3</th>\n",
              "      <td>4</td>\n",
              "      <td>5 Mei 2025 17:15</td>\n",
              "      <td>Sentuh Mimpi: Edupreneur untuk Pendidikan Berk...</td>\n",
              "      <td>Hanif Nur Setiawan</td>\n",
              "      <td>Rp 150.000</td>\n",
              "      <td>Berhasil</td>\n",
              "    </tr>\n",
              "    <tr>\n",
              "      <th>4</th>\n",
              "      <td>5</td>\n",
              "      <td>28 April 2025 15:01</td>\n",
              "      <td>Sentuh Mimpi: Edupreneur untuk Pendidikan Berk...</td>\n",
              "      <td>Afif Ilham Amanullah</td>\n",
              "      <td>Rp 250.055</td>\n",
              "      <td>Berhasil</td>\n",
              "    </tr>\n",
              "  </tbody>\n",
              "</table>\n",
              "</div>"
            ],
            "text/plain": [
              "   No              Tanggal                                      Nama Campaign  \\\n",
              "0   1    26 Mei 2025 18:27  Pembangunan Masjid dan Muhammadiyah Islamic Ce...   \n",
              "1   2    13 Mei 2025 11:45  Bangun Kembali Negeri Palestina Membangun Hara...   \n",
              "2   3     5 Mei 2025 17:16  Sentuh Mimpi: Edupreneur untuk Pendidikan Berk...   \n",
              "3   4     5 Mei 2025 17:15  Sentuh Mimpi: Edupreneur untuk Pendidikan Berk...   \n",
              "4   5  28 April 2025 15:01  Sentuh Mimpi: Edupreneur untuk Pendidikan Berk...   \n",
              "\n",
              "            Nama Donatur Total Donasi               Status  \n",
              "0  Makhrus, S.EI., M.SI.   Rp 150.332  Belum Di Konfirmasi  \n",
              "1             Priyo Aldo     Rp 1.329  Belum Di Konfirmasi  \n",
              "2     Hanif Nur Setiawan    Rp 50.000             Berhasil  \n",
              "3     Hanif Nur Setiawan   Rp 150.000             Berhasil  \n",
              "4   Afif Ilham Amanullah   Rp 250.055             Berhasil  "
            ]
          },
          "execution_count": 5,
          "metadata": {},
          "output_type": "execute_result"
        }
      ],
      "source": [
        "# Menampilkan Head Data Manual\n",
        "df_manual.head()"
      ]
    },
    {
      "cell_type": "code",
      "execution_count": 6,
      "metadata": {
        "id": "mitWwtMM7OQv"
      },
      "outputs": [
        {
          "name": "stdout",
          "output_type": "stream",
          "text": [
            "Jumlah baris & kolom: (590, 6)\n"
          ]
        }
      ],
      "source": [
        "# Menampilkan (Jumlah_Baris, Jumlah_Kolom) df qris\n",
        "print(\"Jumlah baris & kolom:\", df_qris.shape)"
      ]
    },
    {
      "cell_type": "code",
      "execution_count": 7,
      "metadata": {},
      "outputs": [
        {
          "name": "stdout",
          "output_type": "stream",
          "text": [
            "Jumlah baris & kolom: (246, 6)\n"
          ]
        }
      ],
      "source": [
        "# Menampilkan (Jumlah_Baris, Jumlah_Kolom) df manual\n",
        "print(\"Jumlah baris & kolom:\", df_manual.shape)"
      ]
    },
    {
      "cell_type": "code",
      "execution_count": 8,
      "metadata": {
        "id": "IbFKuhvl7uym"
      },
      "outputs": [
        {
          "data": {
            "text/plain": [
              "No               0\n",
              "Tanggal          0\n",
              "Nama Campaign    0\n",
              "Nama Donatur     6\n",
              "Total Donasi     0\n",
              "Status           0\n",
              "dtype: int64"
            ]
          },
          "execution_count": 8,
          "metadata": {},
          "output_type": "execute_result"
        }
      ],
      "source": [
        "# Cek Data yang Hilang di df qris\n",
        "df_qris.isnull().sum()"
      ]
    },
    {
      "cell_type": "code",
      "execution_count": 9,
      "metadata": {},
      "outputs": [
        {
          "data": {
            "text/plain": [
              "No               0\n",
              "Tanggal          0\n",
              "Nama Campaign    0\n",
              "Nama Donatur     0\n",
              "Total Donasi     0\n",
              "Status           0\n",
              "dtype: int64"
            ]
          },
          "execution_count": 9,
          "metadata": {},
          "output_type": "execute_result"
        }
      ],
      "source": [
        "# Cek Data yang Hilang di df manual\n",
        "df_manual.isnull().sum()"
      ]
    },
    {
      "cell_type": "code",
      "execution_count": 10,
      "metadata": {},
      "outputs": [
        {
          "name": "stdout",
          "output_type": "stream",
          "text": [
            "Kolom yang mengandung nilai '-' di df_manual: []\n",
            "Jumlah '-' per kolom di df_manual: {}\n",
            "Kolom yang mengandung nilai '-' di df_qris: ['Nama Campaign']\n",
            "Jumlah '-' per kolom di df_qris: {'Nama Campaign': np.int64(2)}\n"
          ]
        }
      ],
      "source": [
        "cols_with_dash_manual = []\n",
        "counts_with_dash_manual = {}\n",
        "\n",
        "for col in df_manual.columns:\n",
        "    # Cek apakah ada nilai '-' setelah strip spasi\n",
        "    mask = df_manual[col].astype(str).str.strip() == '-'\n",
        "    if mask.any():\n",
        "        cols_with_dash_manual.append(col)\n",
        "        counts_with_dash_manual[col] = mask.sum()  # hitung berapa banyak '-'\n",
        "\n",
        "cols_with_dash_qris = []\n",
        "counts_with_dash_qris = {}\n",
        "\n",
        "for col in df_qris.columns:\n",
        "    mask = df_qris[col].astype(str).str.strip() == '-'\n",
        "    if mask.any():\n",
        "        cols_with_dash_qris.append(col)\n",
        "        counts_with_dash_qris[col] = mask.sum()\n",
        "\n",
        "print(\"Kolom yang mengandung nilai '-' di df_manual:\", cols_with_dash_manual)\n",
        "print(\"Jumlah '-' per kolom di df_manual:\", counts_with_dash_manual)\n",
        "\n",
        "print(\"Kolom yang mengandung nilai '-' di df_qris:\", cols_with_dash_qris)\n",
        "print(\"Jumlah '-' per kolom di df_qris:\", counts_with_dash_qris)"
      ]
    },
    {
      "cell_type": "code",
      "execution_count": 11,
      "metadata": {},
      "outputs": [],
      "source": [
        "# Tambahkan kolom \"Metode Pembayaran\"\n",
        "df_qris[\"Metode Pembayaran\"] = \"QRIS\"\n",
        "df_manual[\"Metode Pembayaran\"] = \"Manual\""
      ]
    },
    {
      "cell_type": "code",
      "execution_count": null,
      "metadata": {},
      "outputs": [],
      "source": [
        "# CLEANING DATA\n",
        "\n",
        "import pandas as pd\n",
        "\n",
        "def clean_and_merge_transaksi(df_qris, df_manual):\n",
        "    # Tambahkan kolom \"Metode Pembayaran\"\n",
        "    df_qris[\"Metode Pembayaran\"] = \"QRIS\"\n",
        "    df_manual[\"Metode Pembayaran\"] = \"Manual\"\n",
        "\n",
        "    # Gabungkan kedua dataframe\n",
        "    df_transaksi = pd.concat([df_qris, df_manual], ignore_index=True)\n",
        "    \n",
        "    # Ganti nama kolom \"Tanggal\" menjadi \"tanggal_jam\"\n",
        "    df_transaksi.rename(columns={\"Tanggal\": \"tanggal_jam\"}, inplace=True)\n",
        "    \n",
        "    # Pastikan dalam bentuk string\n",
        "    df_transaksi[\"tanggal_jam\"] = df_transaksi[\"tanggal_jam\"].astype(str)\n",
        "    \n",
        "    # Ganti nama bulan Indonesia dengan angka agar bisa diparse\n",
        "    bulan_mapping = {\n",
        "        \"Januari\": \"01\", \"Februari\": \"02\", \"Maret\": \"03\", \"April\": \"04\",\n",
        "        \"Mei\": \"05\", \"Juni\": \"06\", \"Juli\": \"07\", \"Agustus\": \"08\",\n",
        "        \"September\": \"09\", \"Oktober\": \"10\", \"November\": \"11\", \"Desember\": \"12\"\n",
        "    }\n",
        "\n",
        "    for nama_bulan, angka_bulan in bulan_mapping.items():\n",
        "        df_transaksi[\"tanggal_jam\"] = df_transaksi[\"tanggal_jam\"].str.replace(nama_bulan, angka_bulan)\n",
        "\n",
        "    # Konversi ke datetime\n",
        "    df_transaksi[\"tanggal_jam\"] = pd.to_datetime(df_transaksi[\"tanggal_jam\"], format=\"%d %m %Y %H:%M\")\n",
        "\n",
        "    # Buat kolom tanggal (hanya tanggal tanpa jam)\n",
        "    df_transaksi[\"tanggal\"] = df_transaksi[\"tanggal_jam\"].dt.date\n",
        "    \n",
        "    # Hapus kolom \"No\"\n",
        "    df_transaksi.drop(\"No\", axis=1, inplace=True)\n",
        "    \n",
        "    # Bersihkan Total Donasi\n",
        "    df_transaksi[\"Total Donasi\"] = (\n",
        "        df_transaksi[\"Total Donasi\"]\n",
        "        .astype(str)\n",
        "        .str.replace(r\"\\D\", \"\", regex=True)\n",
        "        .replace(\"\", \"0\")\n",
        "        .astype(int)\n",
        "    )\n",
        "    \n",
        "    # Hapus baris yang total_donasi nya 0\n",
        "    df_transaksi = df_transaksi[df_transaksi[\"Total Donasi\"] != 0]\n",
        "    \n",
        "    # Ganti NaN dengan \"Anonim\"\n",
        "    df_transaksi[\"Nama Donatur\"] = df_transaksi[\"Nama Donatur\"].fillna(\"Anonim\")\n",
        "    \n",
        "    # Seragamkan semua variasi penulisan di kolom Nama Donatur\n",
        "    df_transaksi[\"Nama Donatur\"] = (\n",
        "        df_transaksi[\"Nama Donatur\"]\n",
        "        .astype(str) # Pastikan semua dalam bentuk string\n",
        "        .str.strip() # Hilangkan spasi di awal/akhir\n",
        "        .str.title() # Ubah ke format judul\n",
        "    )\n",
        "    # Ganti \"Hamba Allah\" pada kolom Nama Donatur menjadi \"Anonim\"\n",
        "    df_transaksi[\"Nama Donatur\"] = df_transaksi[\"Nama Donatur\"].str.replace(r\"(?i)^hamba allah$\", \"Anonim\", regex=True)\n",
        "\n",
        "    # Drop kolom Nama Campaign yang berisi \"-\"\n",
        "    df_transaksi = df_transaksi[df_transaksi[\"Nama Campaign\"] != \"-\"]\n",
        "\n",
        "    # Ganti status dan isi kosong\n",
        "    df_transaksi[\"Status\"] = df_transaksi[\"Status\"].replace(\"Belum Di Konfirmasi\", \"Pending\").str.strip().str.title()\n",
        "\n",
        "    # Tambahan kolom untuk agregasi\n",
        "    df_transaksi[\"tahun\"] = df_transaksi[\"tanggal_jam\"].dt.year\n",
        "    df_transaksi[\"bulan\"] = df_transaksi[\"tanggal_jam\"].dt.month\n",
        "    df_transaksi[\"minggu\"] = df_transaksi[\"tanggal_jam\"].dt.isocalendar().week\n",
        "    df_transaksi[\"hari\"] = df_transaksi[\"tanggal_jam\"].dt.day_name()\n",
        "    df_transaksi[\"jam\"] = df_transaksi[\"tanggal_jam\"].dt.hour\n",
        "\n",
        "    # Rename agar seragam dengan app.py\n",
        "    df_transaksi = df_transaksi.rename(columns={\n",
        "        \"Nama Campaign\": \"nama_campaign\",\n",
        "        \"Nama Donatur\": \"nama_donatur\",\n",
        "        \"Total Donasi\": \"total_donasi\",\n",
        "        \"Metode Pembayaran\": \"metode_pembayaran\",\n",
        "        \"Status\": \"status\"  \n",
        "    })\n",
        "\n",
        "    return df_transaksi[[\n",
        "        \"tanggal_jam\", \"tanggal\", \"tahun\", \"bulan\", \"minggu\", \"hari\", \"jam\",\n",
        "        \"nama_campaign\", \"nama_donatur\", \"total_donasi\", \"metode_pembayaran\", \"status\"\n",
        "    ]] \n"
      ]
    },
    {
      "cell_type": "code",
      "execution_count": 51,
      "metadata": {},
      "outputs": [],
      "source": [
        "# Lanjutkan proses cleaning\n",
        "df_transaksi = clean_and_merge_transaksi(df_qris, df_manual)"
      ]
    },
    {
      "cell_type": "code",
      "execution_count": 52,
      "metadata": {},
      "outputs": [],
      "source": [
        "# Simpan hasilnya\n",
        "df_transaksi.to_excel(\"D:/KP/sobatberbagi.com_dashboard/data_bersih2.xlsx\", index=False)"
      ]
    },
    {
      "cell_type": "code",
      "execution_count": 47,
      "metadata": {},
      "outputs": [
        {
          "name": "stdout",
          "output_type": "stream",
          "text": [
            "0     2025-05-26\n",
            "1     2025-05-26\n",
            "2     2025-05-26\n",
            "3     2025-05-23\n",
            "4     2025-05-16\n",
            "         ...    \n",
            "831   2023-12-16\n",
            "832   2023-12-16\n",
            "833   2023-12-16\n",
            "834   2023-12-16\n",
            "835   2023-12-16\n",
            "Name: tanggal, Length: 833, dtype: datetime64[ns]\n"
          ]
        }
      ],
      "source": [
        "# Tampilkan data di kolom tanggal\n",
        "print(df_transaksi['tanggal'])"
      ]
    },
    {
      "cell_type": "code",
      "execution_count": 48,
      "metadata": {},
      "outputs": [
        {
          "name": "stdout",
          "output_type": "stream",
          "text": [
            "<class 'pandas.core.frame.DataFrame'>\n",
            "Index: 833 entries, 0 to 835\n",
            "Data columns (total 12 columns):\n",
            " #   Column             Non-Null Count  Dtype         \n",
            "---  ------             --------------  -----         \n",
            " 0   tanggal_jam        833 non-null    datetime64[ns]\n",
            " 1   tanggal            833 non-null    datetime64[ns]\n",
            " 2   tahun              833 non-null    int32         \n",
            " 3   bulan              833 non-null    int32         \n",
            " 4   minggu             833 non-null    UInt32        \n",
            " 5   hari               833 non-null    object        \n",
            " 6   jam                833 non-null    int32         \n",
            " 7   nama_campaign      833 non-null    object        \n",
            " 8   nama_donatur       833 non-null    object        \n",
            " 9   total_donasi       833 non-null    int64         \n",
            " 10  metode_pembayaran  833 non-null    object        \n",
            " 11  status             833 non-null    object        \n",
            "dtypes: UInt32(1), datetime64[ns](2), int32(3), int64(1), object(5)\n",
            "memory usage: 72.4+ KB\n"
          ]
        }
      ],
      "source": [
        "# Menampilkan info dataset setelah cleaning\n",
        "df_transaksi.info()"
      ]
    },
    {
      "cell_type": "code",
      "execution_count": 18,
      "metadata": {},
      "outputs": [
        {
          "data": {
            "text/html": [
              "<div>\n",
              "<style scoped>\n",
              "    .dataframe tbody tr th:only-of-type {\n",
              "        vertical-align: middle;\n",
              "    }\n",
              "\n",
              "    .dataframe tbody tr th {\n",
              "        vertical-align: top;\n",
              "    }\n",
              "\n",
              "    .dataframe thead th {\n",
              "        text-align: right;\n",
              "    }\n",
              "</style>\n",
              "<table border=\"1\" class=\"dataframe\">\n",
              "  <thead>\n",
              "    <tr style=\"text-align: right;\">\n",
              "      <th></th>\n",
              "      <th>tanggal_jam</th>\n",
              "      <th>tanggal</th>\n",
              "      <th>tahun</th>\n",
              "      <th>bulan</th>\n",
              "      <th>minggu</th>\n",
              "      <th>hari</th>\n",
              "      <th>jam</th>\n",
              "      <th>nama_campaign</th>\n",
              "      <th>nama_donatur</th>\n",
              "      <th>total_donasi</th>\n",
              "      <th>metode_pembayaran</th>\n",
              "      <th>status</th>\n",
              "    </tr>\n",
              "  </thead>\n",
              "  <tbody>\n",
              "    <tr>\n",
              "      <th>0</th>\n",
              "      <td>2025-05-26 18:29:00</td>\n",
              "      <td>2025-05-26</td>\n",
              "      <td>2025</td>\n",
              "      <td>5</td>\n",
              "      <td>22</td>\n",
              "      <td>Monday</td>\n",
              "      <td>18</td>\n",
              "      <td>Pembangunan Masjid dan Muhammadiyah Islamic Ce...</td>\n",
              "      <td>Makhrus, S.Ei., M.Si.</td>\n",
              "      <td>100000</td>\n",
              "      <td>QRIS</td>\n",
              "      <td>Pending</td>\n",
              "    </tr>\n",
              "    <tr>\n",
              "      <th>1</th>\n",
              "      <td>2025-05-26 18:28:00</td>\n",
              "      <td>2025-05-26</td>\n",
              "      <td>2025</td>\n",
              "      <td>5</td>\n",
              "      <td>22</td>\n",
              "      <td>Monday</td>\n",
              "      <td>18</td>\n",
              "      <td>Pembangunan Masjid dan Muhammadiyah Islamic Ce...</td>\n",
              "      <td>Makhrus, S.Ei., M.Si.</td>\n",
              "      <td>1000</td>\n",
              "      <td>QRIS</td>\n",
              "      <td>Pending</td>\n",
              "    </tr>\n",
              "    <tr>\n",
              "      <th>2</th>\n",
              "      <td>2025-05-26 18:28:00</td>\n",
              "      <td>2025-05-26</td>\n",
              "      <td>2025</td>\n",
              "      <td>5</td>\n",
              "      <td>22</td>\n",
              "      <td>Monday</td>\n",
              "      <td>18</td>\n",
              "      <td>Pembangunan Masjid dan Muhammadiyah Islamic Ce...</td>\n",
              "      <td>Makhrus, S.Ei., M.Si.</td>\n",
              "      <td>1000</td>\n",
              "      <td>QRIS</td>\n",
              "      <td>Pending</td>\n",
              "    </tr>\n",
              "    <tr>\n",
              "      <th>3</th>\n",
              "      <td>2025-05-23 08:01:00</td>\n",
              "      <td>2025-05-23</td>\n",
              "      <td>2025</td>\n",
              "      <td>5</td>\n",
              "      <td>21</td>\n",
              "      <td>Friday</td>\n",
              "      <td>8</td>\n",
              "      <td>Pembangunan Masjid dan Muhammadiyah Islamic Ce...</td>\n",
              "      <td>Dhodi Junaedi</td>\n",
              "      <td>50000</td>\n",
              "      <td>QRIS</td>\n",
              "      <td>Berhasil</td>\n",
              "    </tr>\n",
              "    <tr>\n",
              "      <th>4</th>\n",
              "      <td>2025-05-16 23:27:00</td>\n",
              "      <td>2025-05-16</td>\n",
              "      <td>2025</td>\n",
              "      <td>5</td>\n",
              "      <td>20</td>\n",
              "      <td>Friday</td>\n",
              "      <td>23</td>\n",
              "      <td>Sedekah 1 Juta Al Quran untuk Negeri</td>\n",
              "      <td>Anggitya Yhusuf Fikrandi</td>\n",
              "      <td>100</td>\n",
              "      <td>QRIS</td>\n",
              "      <td>Berhasil</td>\n",
              "    </tr>\n",
              "  </tbody>\n",
              "</table>\n",
              "</div>"
            ],
            "text/plain": [
              "          tanggal_jam    tanggal  tahun  bulan  minggu    hari  jam  \\\n",
              "0 2025-05-26 18:29:00 2025-05-26   2025      5      22  Monday   18   \n",
              "1 2025-05-26 18:28:00 2025-05-26   2025      5      22  Monday   18   \n",
              "2 2025-05-26 18:28:00 2025-05-26   2025      5      22  Monday   18   \n",
              "3 2025-05-23 08:01:00 2025-05-23   2025      5      21  Friday    8   \n",
              "4 2025-05-16 23:27:00 2025-05-16   2025      5      20  Friday   23   \n",
              "\n",
              "                                       nama_campaign  \\\n",
              "0  Pembangunan Masjid dan Muhammadiyah Islamic Ce...   \n",
              "1  Pembangunan Masjid dan Muhammadiyah Islamic Ce...   \n",
              "2  Pembangunan Masjid dan Muhammadiyah Islamic Ce...   \n",
              "3  Pembangunan Masjid dan Muhammadiyah Islamic Ce...   \n",
              "4               Sedekah 1 Juta Al Quran untuk Negeri   \n",
              "\n",
              "               nama_donatur  total_donasi metode_pembayaran    status  \n",
              "0     Makhrus, S.Ei., M.Si.        100000              QRIS   Pending  \n",
              "1     Makhrus, S.Ei., M.Si.          1000              QRIS   Pending  \n",
              "2     Makhrus, S.Ei., M.Si.          1000              QRIS   Pending  \n",
              "3             Dhodi Junaedi         50000              QRIS  Berhasil  \n",
              "4  Anggitya Yhusuf Fikrandi           100              QRIS  Berhasil  "
            ]
          },
          "execution_count": 18,
          "metadata": {},
          "output_type": "execute_result"
        }
      ],
      "source": [
        "# Cek Data head setelah cleaning\n",
        "df_transaksi.head()"
      ]
    },
    {
      "cell_type": "code",
      "execution_count": 19,
      "metadata": {},
      "outputs": [
        {
          "name": "stdout",
          "output_type": "stream",
          "text": [
            "Jumlah baris & kolom: (833, 12)\n"
          ]
        }
      ],
      "source": [
        "# cek jumlah baris & kolom setelah cleaning\n",
        "print(\"Jumlah baris & kolom:\", df_transaksi.shape)"
      ]
    },
    {
      "cell_type": "code",
      "execution_count": 22,
      "metadata": {},
      "outputs": [
        {
          "data": {
            "text/plain": [
              "tanggal_jam          0\n",
              "tanggal              0\n",
              "tahun                0\n",
              "bulan                0\n",
              "minggu               0\n",
              "hari                 0\n",
              "jam                  0\n",
              "nama_campaign        0\n",
              "nama_donatur         0\n",
              "total_donasi         0\n",
              "metode_pembayaran    0\n",
              "status               0\n",
              "dtype: int64"
            ]
          },
          "execution_count": 22,
          "metadata": {},
          "output_type": "execute_result"
        }
      ],
      "source": [
        "# Cek Data yang Hilang setelah cleaning\n",
        "df_transaksi.isnull().sum()"
      ]
    },
    {
      "cell_type": "code",
      "execution_count": 21,
      "metadata": {},
      "outputs": [
        {
          "data": {
            "text/html": [
              "<div>\n",
              "<style scoped>\n",
              "    .dataframe tbody tr th:only-of-type {\n",
              "        vertical-align: middle;\n",
              "    }\n",
              "\n",
              "    .dataframe tbody tr th {\n",
              "        vertical-align: top;\n",
              "    }\n",
              "\n",
              "    .dataframe thead th {\n",
              "        text-align: right;\n",
              "    }\n",
              "</style>\n",
              "<table border=\"1\" class=\"dataframe\">\n",
              "  <thead>\n",
              "    <tr style=\"text-align: right;\">\n",
              "      <th></th>\n",
              "      <th>tanggal_jam</th>\n",
              "      <th>tanggal</th>\n",
              "      <th>tahun</th>\n",
              "      <th>bulan</th>\n",
              "      <th>minggu</th>\n",
              "      <th>hari</th>\n",
              "      <th>jam</th>\n",
              "      <th>nama_campaign</th>\n",
              "      <th>nama_donatur</th>\n",
              "      <th>total_donasi</th>\n",
              "      <th>metode_pembayaran</th>\n",
              "      <th>status</th>\n",
              "    </tr>\n",
              "  </thead>\n",
              "  <tbody>\n",
              "  </tbody>\n",
              "</table>\n",
              "</div>"
            ],
            "text/plain": [
              "Empty DataFrame\n",
              "Columns: [tanggal_jam, tanggal, tahun, bulan, minggu, hari, jam, nama_campaign, nama_donatur, total_donasi, metode_pembayaran, status]\n",
              "Index: []"
            ]
          },
          "execution_count": 21,
          "metadata": {},
          "output_type": "execute_result"
        }
      ],
      "source": [
        "# Cek kolom nama_donatur yang mengandung hamba Allah\n",
        "df_transaksi[df_transaksi[\"nama_donatur\"] == \"Hamba Allah\"]"
      ]
    },
    {
      "cell_type": "code",
      "execution_count": 20,
      "metadata": {},
      "outputs": [
        {
          "name": "stdout",
          "output_type": "stream",
          "text": [
            "📆 Tanggal paling lama  : 2023-12-16 08:46:00\n",
            "📆 Tanggal paling baru  : 2025-05-26 18:29:00\n"
          ]
        }
      ],
      "source": [
        "import pandas as pd\n",
        "\n",
        "# Ambil semua kolom bertipe datetime\n",
        "datetime_cols = df_transaksi.select_dtypes(include='datetime')\n",
        "\n",
        "# Gabungkan semua nilai tanggal dari seluruh kolom datetime\n",
        "all_dates = pd.concat([datetime_cols[col] for col in datetime_cols.columns])\n",
        "\n",
        "# Ambil tanggal terkecil dan terbesar\n",
        "tanggal_terkecil = all_dates.min()\n",
        "tanggal_terbesar = all_dates.max()\n",
        "\n",
        "print(f\"📆 Tanggal paling lama  : {tanggal_terkecil}\")\n",
        "print(f\"📆 Tanggal paling baru  : {tanggal_terbesar}\")"
      ]
    },
    {
      "cell_type": "code",
      "execution_count": null,
      "metadata": {},
      "outputs": [],
      "source": []
    },
    {
      "cell_type": "markdown",
      "metadata": {
        "id": "7CS1HAPg2Ud_"
      },
      "source": [
        "# Analisis"
      ]
    },
    {
      "cell_type": "code",
      "execution_count": 21,
      "metadata": {
        "id": "gJ5Dl8OS8MtJ"
      },
      "outputs": [
        {
          "data": {
            "image/png": "[encoded data removed]",
            "text/plain": [
              "<Figure size 600x400 with 2 Axes>"
            ]
          },
          "metadata": {},
          "output_type": "display_data"
        }
      ],
      "source": [
        "import seaborn as sns\n",
        "import matplotlib.pyplot as plt\n",
        "\n",
        "# Misal df_transaksi sudah hasil dari fungsi clean_and_merge_transaksi\n",
        "df_transaksi = clean_and_merge_transaksi(df_qris, df_manual)\n",
        "\n",
        "# Ambil kolom numerik saja\n",
        "numeric_cols = df_transaksi[[\"tahun\", \"minggu\", \"total_donasi\", \"jam\"]]\n",
        "\n",
        "# Hitung korelasi\n",
        "corr_matrix = numeric_cols.corr()\n",
        "\n",
        "# Tampilkan correlation matrix pakai heatmap seaborn\n",
        "plt.figure(figsize=(6,4))\n",
        "sns.heatmap(corr_matrix, annot=True, cmap='coolwarm', fmt=\".2f\")\n",
        "plt.title(\"Correlation Matrix\")\n",
        "plt.show()\n"
      ]
    },
    {
      "cell_type": "markdown",
      "metadata": {
        "id": "7fJbn0we2WQ4"
      },
      "source": [
        "# Visualisasi Sederhana"
      ]
    },
    {
      "cell_type": "code",
      "execution_count": 22,
      "metadata": {},
      "outputs": [
        {
          "data": {
            "text/html": [
              "\n",
              "<style>\n",
              "  #altair-viz-e9dbd12b3c224d5cbd4a9bf0ec04b12e.vega-embed {\n",
              "    width: 100%;\n",
              "    display: flex;\n",
              "  }\n",
              "\n",
              "  #altair-viz-e9dbd12b3c224d5cbd4a9bf0ec04b12e.vega-embed details,\n",
              "  #altair-viz-e9dbd12b3c224d5cbd4a9bf0ec04b12e.vega-embed details summary {\n",
              "    position: relative;\n",
              "  }\n",
              "</style>\n",
              "<div id=\"altair-viz-e9dbd12b3c224d5cbd4a9bf0ec04b12e\"></div>\n",
              "<script type=\"text/javascript\">\n",
              "  var VEGA_DEBUG = (typeof VEGA_DEBUG == \"undefined\") ? {} : VEGA_DEBUG;\n",
              "  (function(spec, embedOpt){\n",
              "    let outputDiv = document.currentScript.previousElementSibling;\n",
              "    if (outputDiv.id !== \"altair-viz-e9dbd12b3c224d5cbd4a9bf0ec04b12e\") {\n",
              "      outputDiv = document.getElementById(\"altair-viz-e9dbd12b3c224d5cbd4a9bf0ec04b12e\");\n",
              "    }\n",
              "\n",
              "    const paths = {\n",
              "      \"vega\": \"https://cdn.jsdelivr.net/npm/vega@5?noext\",\n",
              "      \"vega-lib\": \"https://cdn.jsdelivr.net/npm/vega-lib?noext\",\n",
              "      \"vega-lite\": \"https://cdn.jsdelivr.net/npm/vega-lite@5.20.1?noext\",\n",
              "      \"vega-embed\": \"https://cdn.jsdelivr.net/npm/vega-embed@6?noext\",\n",
              "    };\n",
              "\n",
              "    function maybeLoadScript(lib, version) {\n",
              "      var key = `${lib.replace(\"-\", \"\")}_version`;\n",
              "      return (VEGA_DEBUG[key] == version) ?\n",
              "        Promise.resolve(paths[lib]) :\n",
              "        new Promise(function(resolve, reject) {\n",
              "          var s = document.createElement('script');\n",
              "          document.getElementsByTagName(\"head\")[0].appendChild(s);\n",
              "          s.async = true;\n",
              "          s.onload = () => {\n",
              "            VEGA_DEBUG[key] = version;\n",
              "            return resolve(paths[lib]);\n",
              "          };\n",
              "          s.onerror = () => reject(`Error loading script: ${paths[lib]}`);\n",
              "          s.src = paths[lib];\n",
              "        });\n",
              "    }\n",
              "\n",
              "    function showError(err) {\n",
              "      outputDiv.innerHTML = `<div class=\"error\" style=\"color:red;\">${err}</div>`;\n",
              "      throw err;\n",
              "    }\n",
              "\n",
              "    function displayChart(vegaEmbed) {\n",
              "      vegaEmbed(outputDiv, spec, embedOpt)\n",
              "        .catch(err => showError(`Javascript Error: ${err.message}<br>This usually means there's a typo in your chart specification. See the javascript console for the full traceback.`));\n",
              "    }\n",
              "\n",
              "    if(typeof define === \"function\" && define.amd) {\n",
              "      requirejs.config({paths});\n",
              "      let deps = [\"vega-embed\"];\n",
              "      require(deps, displayChart, err => showError(`Error loading script: ${err.message}`));\n",
              "    } else {\n",
              "      maybeLoadScript(\"vega\", \"5\")\n",
              "        .then(() => maybeLoadScript(\"vega-lite\", \"5.20.1\"))\n",
              "        .then(() => maybeLoadScript(\"vega-embed\", \"6\"))\n",
              "        .catch(showError)\n",
              "        .then(() => displayChart(vegaEmbed));\n",
              "    }\n",
              "  })({\"config\": {\"view\": {\"continuousWidth\": 300, \"continuousHeight\": 300}}, \"data\": {\"name\": \"data-cc6dbcf98a09a04660dde30ad440f751\"}, \"mark\": {\"type\": \"bar\"}, \"encoding\": {\"tooltip\": [{\"field\": \"nama_donatur\", \"type\": \"nominal\"}, {\"field\": \"total_donasi\", \"type\": \"quantitative\"}], \"x\": {\"field\": \"total_donasi\", \"title\": \"Total Donasi\", \"type\": \"quantitative\"}, \"y\": {\"field\": \"nama_donatur\", \"sort\": \"-x\", \"type\": \"nominal\"}}, \"title\": \"Top 10 Donatur\", \"$schema\": \"https://vega.github.io/schema/vega-lite/v5.20.1.json\", \"datasets\": {\"data-cc6dbcf98a09a04660dde30ad440f751\": [{\"nama_donatur\": \"Muhamad Rafli Al Farizqi\", \"total_donasi\": 101130997}, {\"nama_donatur\": \"User 2\", \"total_donasi\": 65000821}, {\"nama_donatur\": \"User 1\", \"total_donasi\": 55000619}, {\"nama_donatur\": \"Dhodi Junaedi\", \"total_donasi\": 3429918}, {\"nama_donatur\": \"Shafi\", \"total_donasi\": 2104000}, {\"nama_donatur\": \"Alucard\", \"total_donasi\": 2000000}, {\"nama_donatur\": \"Rifki Zahrani Masyithoh\", \"total_donasi\": 1750899}, {\"nama_donatur\": \"Makhrus, S.Ei., M.Si.\", \"total_donasi\": 1421286}, {\"nama_donatur\": \"Afif Ilham Amanullah\", \"total_donasi\": 1101376}, {\"nama_donatur\": \"Azizah Khoirunnisa\", \"total_donasi\": 1100002}]}}, {\"mode\": \"vega-lite\"});\n",
              "</script>"
            ],
            "text/plain": [
              "alt.Chart(...)"
            ]
          },
          "metadata": {},
          "output_type": "display_data"
        }
      ],
      "source": [
        "import pandas as pd\n",
        "import altair as alt\n",
        "\n",
        "# top 10 donatur berdasarkan total donasi\n",
        "top_donatur = (\n",
        "    df_transaksi.groupby(\"nama_donatur\")[\"total_donasi\"]\n",
        "    .sum()\n",
        "    .reset_index()\n",
        "    .sort_values(by=\"total_donasi\", ascending=False)\n",
        "    .head(10)\n",
        ")\n",
        "\n",
        "# Buat chart Altair\n",
        "chart_donatur = alt.Chart(top_donatur).mark_bar().encode(\n",
        "    x=alt.X(\"total_donasi:Q\", title=\"Total Donasi\"),\n",
        "    y=alt.Y(\"nama_donatur:N\", sort='-x'),\n",
        "    tooltip=[\"nama_donatur\", \"total_donasi\"]\n",
        ").properties(title=\"Top 10 Donatur\")\n",
        "\n",
        "# Tampilkan chart (jika di notebook, cukup tulis chart_donatur)\n",
        "chart_donatur.show()\n"
      ]
    },
    {
      "cell_type": "code",
      "execution_count": 23,
      "metadata": {},
      "outputs": [
        {
          "data": {
            "text/html": [
              "\n",
              "<style>\n",
              "  #altair-viz-d92dc9fddec34b48b5a848edb11afd9a.vega-embed {\n",
              "    width: 100%;\n",
              "    display: flex;\n",
              "  }\n",
              "\n",
              "  #altair-viz-d92dc9fddec34b48b5a848edb11afd9a.vega-embed details,\n",
              "  #altair-viz-d92dc9fddec34b48b5a848edb11afd9a.vega-embed details summary {\n",
              "    position: relative;\n",
              "  }\n",
              "</style>\n",
              "<div id=\"altair-viz-d92dc9fddec34b48b5a848edb11afd9a\"></div>\n",
              "<script type=\"text/javascript\">\n",
              "  var VEGA_DEBUG = (typeof VEGA_DEBUG == \"undefined\") ? {} : VEGA_DEBUG;\n",
              "  (function(spec, embedOpt){\n",
              "    let outputDiv = document.currentScript.previousElementSibling;\n",
              "    if (outputDiv.id !== \"altair-viz-d92dc9fddec34b48b5a848edb11afd9a\") {\n",
              "      outputDiv = document.getElementById(\"altair-viz-d92dc9fddec34b48b5a848edb11afd9a\");\n",
              "    }\n",
              "\n",
              "    const paths = {\n",
              "      \"vega\": \"https://cdn.jsdelivr.net/npm/vega@5?noext\",\n",
              "      \"vega-lib\": \"https://cdn.jsdelivr.net/npm/vega-lib?noext\",\n",
              "      \"vega-lite\": \"https://cdn.jsdelivr.net/npm/vega-lite@5.20.1?noext\",\n",
              "      \"vega-embed\": \"https://cdn.jsdelivr.net/npm/vega-embed@6?noext\",\n",
              "    };\n",
              "\n",
              "    function maybeLoadScript(lib, version) {\n",
              "      var key = `${lib.replace(\"-\", \"\")}_version`;\n",
              "      return (VEGA_DEBUG[key] == version) ?\n",
              "        Promise.resolve(paths[lib]) :\n",
              "        new Promise(function(resolve, reject) {\n",
              "          var s = document.createElement('script');\n",
              "          document.getElementsByTagName(\"head\")[0].appendChild(s);\n",
              "          s.async = true;\n",
              "          s.onload = () => {\n",
              "            VEGA_DEBUG[key] = version;\n",
              "            return resolve(paths[lib]);\n",
              "          };\n",
              "          s.onerror = () => reject(`Error loading script: ${paths[lib]}`);\n",
              "          s.src = paths[lib];\n",
              "        });\n",
              "    }\n",
              "\n",
              "    function showError(err) {\n",
              "      outputDiv.innerHTML = `<div class=\"error\" style=\"color:red;\">${err}</div>`;\n",
              "      throw err;\n",
              "    }\n",
              "\n",
              "    function displayChart(vegaEmbed) {\n",
              "      vegaEmbed(outputDiv, spec, embedOpt)\n",
              "        .catch(err => showError(`Javascript Error: ${err.message}<br>This usually means there's a typo in your chart specification. See the javascript console for the full traceback.`));\n",
              "    }\n",
              "\n",
              "    if(typeof define === \"function\" && define.amd) {\n",
              "      requirejs.config({paths});\n",
              "      let deps = [\"vega-embed\"];\n",
              "      require(deps, displayChart, err => showError(`Error loading script: ${err.message}`));\n",
              "    } else {\n",
              "      maybeLoadScript(\"vega\", \"5\")\n",
              "        .then(() => maybeLoadScript(\"vega-lite\", \"5.20.1\"))\n",
              "        .then(() => maybeLoadScript(\"vega-embed\", \"6\"))\n",
              "        .catch(showError)\n",
              "        .then(() => displayChart(vegaEmbed));\n",
              "    }\n",
              "  })({\"config\": {\"view\": {\"continuousWidth\": 300, \"continuousHeight\": 300}}, \"data\": {\"name\": \"data-74d64e1fd493452008af11e6105f3ab0\"}, \"mark\": {\"type\": \"bar\"}, \"encoding\": {\"tooltip\": [{\"field\": \"nama_campaign\", \"type\": \"nominal\"}, {\"field\": \"total_donasi\", \"type\": \"quantitative\"}], \"x\": {\"field\": \"total_donasi\", \"title\": \"Total Donasi\", \"type\": \"quantitative\"}, \"y\": {\"field\": \"nama_campaign\", \"sort\": \"-x\", \"type\": \"nominal\"}}, \"title\": \"Top 10 Campaign\", \"$schema\": \"https://vega.github.io/schema/vega-lite/v5.20.1.json\", \"datasets\": {\"data-74d64e1fd493452008af11e6105f3ab0\": [{\"nama_campaign\": \"Kontribusi Dalam Perawatan Masjid di Tengah Kota Purwokerto\", \"total_donasi\": 122223739}, {\"nama_campaign\": \"Meningkatkan Kualitas dan Kesejahteraan Guru Honorer di Banyumas\", \"total_donasi\": 101477533}, {\"nama_campaign\": \"Sentuh Mimpi: Edupreneur untuk Pendidikan Berkualitas\", \"total_donasi\": 23799617}, {\"nama_campaign\": \"Berkah Ramadhan: Berbagi Keberkahan dalam Buka Puasa\", \"total_donasi\": 3193276}, {\"nama_campaign\": \"Menyentuh Hidup, Mengatasi Kemiskinan di Banyumas\", \"total_donasi\": 2406805}, {\"nama_campaign\": \"Mari Bantu Pembangunan Masjid di Baturraden, Bangun Rumah di Surga\", \"total_donasi\": 2020290}, {\"nama_campaign\": \"Sedekah 1 Juta Al Quran untuk Negeri\", \"total_donasi\": 1317687}, {\"nama_campaign\": \"Setetes Air untuk Kehidupan Sedekah Air Bersih bagi Desa Terdampak Kekeringan\", \"total_donasi\": 1248173}, {\"nama_campaign\": \"Bersama-sama Dukung Beasiswa Sang Surya\", \"total_donasi\": 1207822}, {\"nama_campaign\": \"Renovasi Atap Masjid Saka Tunggal Banyumas: Jadikan Rumah Allah Nyaman untuk Beribadah\", \"total_donasi\": 1023313}]}}, {\"mode\": \"vega-lite\"});\n",
              "</script>"
            ],
            "text/plain": [
              "alt.Chart(...)"
            ]
          },
          "metadata": {},
          "output_type": "display_data"
        }
      ],
      "source": [
        "# top 10 campaign berdasarkan total donasi\n",
        "top_campaign = (\n",
        "    df_transaksi.groupby(\"nama_campaign\")[\"total_donasi\"]\n",
        "    .sum()\n",
        "    .reset_index()\n",
        "    .sort_values(by=\"total_donasi\", ascending=False)\n",
        "    .head(10)\n",
        ")\n",
        "\n",
        "# Buat chart Altair\n",
        "chart_campaign = alt.Chart(top_campaign).mark_bar().encode(\n",
        "    x=alt.X(\"total_donasi:Q\", title=\"Total Donasi\"),\n",
        "    y=alt.Y(\"nama_campaign:N\", sort='-x'),\n",
        "    tooltip=[\"nama_campaign\", \"total_donasi\"]\n",
        ").properties(title=\"Top 10 Campaign\")\n",
        "\n",
        "# Tampilkan chart (di notebook cukup tulis chart_campaign)\n",
        "chart_campaign.show()"
      ]
    }
  ],
  "metadata": {
    "colab": {
      "provenance": []
    },
    "kernelspec": {
      "display_name": "Python 3",
      "name": "python3"
    },
    "language_info": {
      "codemirror_mode": {
        "name": "ipython",
        "version": 3
      },
      "file_extension": ".py",
      "mimetype": "text/x-python",
      "name": "python",
      "nbconvert_exporter": "python",
      "pygments_lexer": "ipython3",
      "version": "3.13.2"
    }
  },
  "nbformat": 4,
  "nbformat_minor": 0
}
